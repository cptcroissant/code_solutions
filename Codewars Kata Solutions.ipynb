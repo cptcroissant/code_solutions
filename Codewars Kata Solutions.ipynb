{
 "cells": [
  {
   "cell_type": "markdown",
   "metadata": {},
   "source": [
    "## LeetCode"
   ]
  },
  {
   "cell_type": "markdown",
   "metadata": {},
   "source": [
    "**1386. Cinema Seat Allocation**  \n",
    "https://leetcode.com/problems/cinema-seat-allocation/\n",
    "\n",
    "A cinema has `n` rows of seats, numbered from 1 to n and there are ten seats in each row, labelled from 1 to 10 as shown in the figure above.  \n",
    "\n",
    "Given the array reservedSeats containing the numbers of seats already reserved, for example, `reservedSeats[i] = [3,8]` means the seat located in row 3 and labelled with 8 is already reserved.  \n",
    "\n",
    "Return the maximum number of four-person groups you can assign on the cinema seats. A four-person group occupies four adjacent seats in one single row. Seats across an aisle (such as `[3,3]` and `[3,4]`) are not considered to be adjacent, but there is an exceptional case on which an aisle split a four-person group, in that case, the aisle split a four-person group in the middle, which means to have two people on each side."
   ]
  },
  {
   "cell_type": "code",
   "execution_count": null,
   "metadata": {},
   "outputs": [],
   "source": [
    "class Solution:  \n",
    "    def maxNumberOfFamilies(self, n: int, reservedSeats: List[List[int]]) -> int:\n",
    "        \n",
    "        ### split rhe seats in a single row in five bins\n",
    "        def return_bin(num):\n",
    "                if num in [1,10]:\n",
    "                    return 0\n",
    "                elif num in [2,3]:\n",
    "                    return 2\n",
    "                elif num in [8,9]:\n",
    "                    return 3\n",
    "                elif num in [4,5]:\n",
    "                    return 5\n",
    "                elif num in [6,7]:\n",
    "                    return 9\n",
    "                \n",
    "        ### sort the default list of lists    \n",
    "        sorted_reserved = sorted(reservedSeats)\n",
    "\n",
    "        array = []\n",
    "        temp = []\n",
    "        total = 0\n",
    "        \n",
    "        ### return the sum of bins value\n",
    "        curr = sorted_reserved[0][0]\n",
    "        for i in range(len(sorted_reserved)):\n",
    "            if sorted_reserved[i][0] == curr:\n",
    "                temp.append(return_bin(sorted_reserved[i][1]))    \n",
    "            else:\n",
    "                temp = sum(set(temp))\n",
    "                array.append(temp)\n",
    "                temp = []\n",
    "                curr = sorted_reserved[i][0]\n",
    "                temp.append(return_bin(sorted_reserved[i][1]))\n",
    "            if i == len(sorted_reserved)-1:\n",
    "                temp = sum(set(temp))\n",
    "                array.append(temp)\n",
    "                \n",
    "        ### count total families we may accomodate row by row\n",
    "        for i in array:\n",
    "            if i == 0:\n",
    "                total += 2\n",
    "            elif i in [2,3,5,7,9,12]:\n",
    "                total += 1\n",
    "                \n",
    "        ### each non reserved row may hold two familes        \n",
    "        clear_row = (n - len(array)) * 2\n",
    "        total += clear_row\n",
    "        \n",
    "        return total"
   ]
  },
  {
   "cell_type": "markdown",
   "metadata": {},
   "source": [
    "Runtime: 712 ms (faster than 21.27% of python solutions)   \n",
    "Memory Usage: 17.9 MB, (less than 50.75% python solutions)\n",
    "\n",
    "---"
   ]
  },
  {
   "cell_type": "markdown",
   "metadata": {},
   "source": [
    "**1578. Minimum Deletion Cost to Avoid Repeating Letters**  \n",
    "https://leetcode.com/problems/minimum-deletion-cost-to-avoid-repeating-letters\n",
    "\n",
    "Given a string `s` and an array of integers cost where `cost[i]` is the cost of deleting the ith character in `s`.  \n",
    "\n",
    "Return the minimum cost of deletions such that there are no two identical letters next to each other.  \n",
    "\n",
    "Notice that you will delete the chosen characters at the same time, in other words, after deleting a character, the costs of deleting other characters will not change.  "
   ]
  },
  {
   "cell_type": "code",
   "execution_count": null,
   "metadata": {},
   "outputs": [],
   "source": [
    "class Solution:\n",
    "    def minCost(self, s: str, cost: List[int]) -> int:\n",
    "        array = []\n",
    "        temp = []\n",
    "        count = 0\n",
    "        total = 0\n",
    "        curr = s[0]\n",
    "        \n",
    "        # split default string into sequential arrays with the same letters\n",
    "        # convert arrays with letters to values\n",
    "        # 'aaabbb' -> [1,2,3][4,5,6]\n",
    "        \n",
    "        for i in range(len(s)):\n",
    "            if s[i] == curr:\n",
    "                temp.append(cost[i])\n",
    "                count += 1\n",
    "        \n",
    "            elif s[i] != curr:\n",
    "                if count > 1:\n",
    "                    array.append(temp)\n",
    "                    curr = s[i]\n",
    "                    temp = []\n",
    "                    count = 0\n",
    "                    temp.append(cost[i])\n",
    "                    count += 1\n",
    "                else:\n",
    "                    temp = []\n",
    "                    temp.append(cost[i])\n",
    "                    curr = s[i]\n",
    "                    count = 1 \n",
    "    \n",
    "            if i == len(s)-1 and count > 1:\n",
    "                array.append(temp)\n",
    "\n",
    "        # we need to save only one letter with maximum cost from each array\n",
    "        # summarize the array with cost values and subtract one biggest value\n",
    "        \n",
    "        for a in array:\n",
    "            total += sum(a) - max(a)\n",
    "        \n",
    "        return total   "
   ]
  },
  {
   "cell_type": "markdown",
   "metadata": {},
   "source": [
    "Runtime: 1136 ms (faster than 57.38 % python solutions)  \n",
    "Memory Usage: 25.2 MB (less than 81.16% python solutions) \n",
    "\n",
    "---"
   ]
  },
  {
   "cell_type": "markdown",
   "metadata": {},
   "source": [
    "**1567. Maximum Length of Subarray With Positive Product**  \n",
    "https://leetcode.com/problems/maximum-length-of-subarray-with-positive-product/\n",
    "\n",
    "Given an array of integers nums, find the maximum length of a subarray where the product of all its elements is positive.  \n",
    "A subarray of an array is a consecutive sequence of zero or more values taken out of that array.  \n",
    "Return the maximum length of a subarray with positive product."
   ]
  },
  {
   "cell_type": "code",
   "execution_count": null,
   "metadata": {},
   "outputs": [],
   "source": [
    "def getMaxLen(self, nums: List[int]) -> int:\n",
    "        \n",
    "        array_ = []\n",
    "        temp = []\n",
    "        len_ = []\n",
    "\n",
    "        for i in range(len(nums)):\n",
    "            if nums[i] > 0:\n",
    "                temp.append(0)\n",
    "                if i == len(nums)-1:\n",
    "                    array_.append(temp)\n",
    "            elif nums[i] < 0:\n",
    "                temp.append(1)\n",
    "                if i == len(nums)-1:\n",
    "                    array_.append(temp)\n",
    "            elif nums[i] == 0:\n",
    "                array_.append(temp)\n",
    "                temp = []\n",
    "\n",
    "        for array in array_:\n",
    "            if array.count(1) == 1 and len(array) > 2:\n",
    "                len_.append(len(array[0:array.index(1)]))\n",
    "                len_.append(len(array[array.index(1)+1:]))\n",
    "    \n",
    "            elif len(array) == 2 and array.count(1) == 1:\n",
    "                len_.append(1)              \n",
    "            else:\n",
    "                left = array.copy()\n",
    "                right = array.copy()\n",
    "        \n",
    "                while right.count(1) % 2 != 0:\n",
    "                    right.pop()\n",
    "                len_.append(len(right))\n",
    "        \n",
    "                while left.count(1) % 2 != 0:\n",
    "                    left.pop(0)\n",
    "                len_.append(len(left))\n",
    "\n",
    "        return max(len_)"
   ]
  },
  {
   "cell_type": "markdown",
   "metadata": {},
   "source": [
    "Runtime: 644 ms (faster than 37.50 % python submissions)  \n",
    "Memory Usage: 29.2 MB (less than 81.16% python solutions)\n",
    "\n",
    "---"
   ]
  },
  {
   "cell_type": "markdown",
   "metadata": {},
   "source": [
    "**1630. Arithmetic Subarrays**  \n",
    "https://leetcode.com/problems/arithmetic-subarrays/\n",
    "\n",
    "A sequence of numbers is called arithmetic if it consists of at least two elements, and the difference between every two consecutive elements is the same. More formally, a sequence s is arithmetic if and only if `s[i+1] - s[i] == s[1] - s[0`] for all valid i.  \n",
    "\n",
    "You are given an array of n integers, nums, and two arrays of m integers each, l and r, representing the m range queries, where the ith query is the range `[l[i], r[i]]`. All the arrays are 0-indexed.\n",
    "\n",
    "Return a list of boolean elements answer, where `answer[i]` is true if the subarray `nums[l[i]]`, `nums[l[i]+1], ... , nums[r[i]]` can be rearranged to form an arithmetic sequence, and false otherwise."
   ]
  },
  {
   "cell_type": "code",
   "execution_count": null,
   "metadata": {},
   "outputs": [],
   "source": [
    "class Solution:\n",
    "    def checkArithmeticSubarrays(self, nums: List[int], l: List[int], r: List[int]) -> List[bool]:\n",
    "        answer = []\n",
    "\n",
    "        for i in range(len(l)):\n",
    "            positive = sorted([j for j in nums[l[i]:r[i]+1] if j >= 0])\n",
    "            negative = sorted([j for j in nums[l[i]:r[i]+1] if j < 0])[::-1]\n",
    "            res = positive + negative\n",
    "            \n",
    "            temp = True \n",
    "            for z in range(len(res)-2):\n",
    "                if res[z] - res[z+1] != res[z+1] - res[z+2]:\n",
    "                    temp = False\n",
    "            answer.append(temp)\n",
    "    \n",
    "        return answer"
   ]
  },
  {
   "cell_type": "markdown",
   "metadata": {},
   "source": [
    "Runtime: 384 ms (faster than 5.07% of python submissions)  \n",
    "Memory Usage: 14.6 MB (less than 35.89% of python submissions)\n",
    "\n",
    "---"
   ]
  },
  {
   "cell_type": "markdown",
   "metadata": {},
   "source": [
    "## Kata kyu level\n",
    "\n",
    "[3](#3)  \n",
    "[4](#4)  \n",
    "[5](#5)  \n",
    "[6](#6)  \n",
    "[7](#7)  "
   ]
  },
  {
   "cell_type": "markdown",
   "metadata": {},
   "source": [
    "### 3 kyu <a class='anchor' id='3'></a>"
   ]
  },
  {
   "cell_type": "markdown",
   "metadata": {},
   "source": [
    "**Battleship field validator**  \n",
    "\n",
    "Write a method that takes a field for well-known board game \"Battleship\" as an argument and returns true if it has a valid disposition of ships, false otherwise. Argument is guaranteed to be 10x10 two-dimension array. Elements in the array are numbers, 0 if the cell is free and 1 if occupied by ship.  \n",
    "\n",
    "Battleship (also Battleships or Sea Battle) is a guessing game for two players. Each player has a 10x10 grid containing several \"ships\" and objective is to destroy enemy's forces by targetting individual cells on his field. The ship occupies one or more cells in the grid. Size and number of ships may differ from version to version. In this kata we will use Soviet/Russian version of the game.  "
   ]
  },
  {
   "cell_type": "code",
   "execution_count": 1,
   "metadata": {},
   "outputs": [],
   "source": [
    "import numpy as np\n",
    "\n",
    "### count different classes of ships line by line\n",
    "def line_count(field):\n",
    "    currs = []\n",
    "    curr = 1\n",
    "    for i in range(len(field)):\n",
    "        for j in range(9):\n",
    "            if field[i,j] == 1 and field[i,j+1] == 1 and j+1 == 9:\n",
    "                curr += 1\n",
    "                currs.append(curr)\n",
    "                curr = 1\n",
    "            elif field[i,j] == 1 and field[i,j+1] == 1:\n",
    "                curr += 1\n",
    "            elif field[i,j] == 1 and field[i,j+1] == 0 and curr > 1:\n",
    "                currs.append(curr)\n",
    "                curr =  1           \n",
    "    return currs\n",
    "\n",
    "\n",
    "\n",
    "def validate_battlefield(field):\n",
    "    \n",
    "    field = np.array(field)\n",
    "    fail = 0\n",
    "\n",
    "### checking, if  ships are touching each other\n",
    "    for i in range(1, 9):\n",
    "        for j in range(9):\n",
    "            if field[i,j] == 1 == field[i-1, j+1]  or field[i,j] == 1 == field[i+1, j+1]:\n",
    "                fail += 1\n",
    "                break\n",
    "\n",
    "### total sum of ships length  == 20 points  \n",
    "    x_1 = field.sum(axis=1)\n",
    "    x_0  = field.sum(axis=0)\n",
    "    tt = np.concatenate((x_1, x_0), axis=0)\n",
    "    if tt.max() > 10:\n",
    "        fail += 1\n",
    "        \n",
    "    \n",
    "    line_count_n = line_count(field)\n",
    "    line_count_t = line_count(field.T)\n",
    "    sum_lines = line_count_n + line_count_t\n",
    "    ones = field.sum() - sum(sum_lines)\n",
    "    \n",
    "    if sum_lines.count(2) != 3 or sum_lines.count(3) != 2 or sum_lines.count(4) != 1 or ones != 4 :\n",
    "        fail += 1\n",
    "        \n",
    "    return True if fail == 0 else False"
   ]
  },
  {
   "cell_type": "code",
   "execution_count": 4,
   "metadata": {},
   "outputs": [
    {
     "data": {
      "text/plain": [
       "False"
      ]
     },
     "execution_count": 4,
     "metadata": {},
     "output_type": "execute_result"
    }
   ],
   "source": [
    "### \"Must return false if unwanted ships are present\"\n",
    "\n",
    "testfield = [[1, 0, 0, 0, 0, 1, 1, 0, 0, 0],\n",
    "                 [1, 0, 1, 0, 0, 0, 0, 0, 1, 0],\n",
    "                 [1, 0, 1, 0, 1, 1, 1, 0, 1, 0],\n",
    "                 [1, 0, 0, 0, 0, 0, 0, 0, 0, 0],\n",
    "                 [0, 0, 0, 0, 0, 0, 0, 0, 1, 0],\n",
    "                 [0, 0, 0, 0, 1, 1, 1, 0, 0, 0],\n",
    "                 [0, 1, 0, 0, 0, 0, 0, 0, 1, 0],\n",
    "                 [0, 0, 0, 1, 0, 0, 0, 0, 0, 0],\n",
    "                 [0, 0, 0, 0, 0, 0, 0, 1, 0, 0],\n",
    "                 [0, 0, 0, 0, 0, 0, 0, 0, 0, 0]]\n",
    "\n",
    "validate_battlefield(testfield)"
   ]
  },
  {
   "cell_type": "markdown",
   "metadata": {},
   "source": [
    "**Sudoku solver**"
   ]
  },
  {
   "cell_type": "code",
   "execution_count": 6,
   "metadata": {},
   "outputs": [],
   "source": [
    "def sudoku(board):\n",
    "    find = find_empty(board)\n",
    "    if not find:\n",
    "        return board\n",
    "    else:\n",
    "        row, col = find\n",
    "\n",
    "    for i in range(1,10):\n",
    "        if valid(board, i, (row, col)):\n",
    "            board[row][col] = i\n",
    "\n",
    "            if sudoku(board):\n",
    "                return board\n",
    "\n",
    "            board[row][col] = 0\n",
    "\n",
    "    return False\n",
    "\n",
    "\n",
    "def valid(board, num, pos):\n",
    "    \n",
    "    for i in range(len(board[0])):\n",
    "        if board[pos[0]][i] == num and pos[1] != i:\n",
    "            return False\n",
    "\n",
    "    for i in range(len(board)):\n",
    "        if board[i][pos[1]] == num and pos[0] != i:\n",
    "            return False\n",
    "\n",
    "    box_x = pos[1] // 3\n",
    "    box_y = pos[0] // 3\n",
    "\n",
    "    for i in range(box_y*3, box_y*3 + 3):\n",
    "        for j in range(box_x * 3, box_x*3 + 3):\n",
    "            if board[i][j] == num and (i,j) != pos:\n",
    "                return False\n",
    "\n",
    "    return True\n",
    "\n",
    "\n",
    "def find_empty(board):\n",
    "    for i in range(len(board)):\n",
    "        for j in range(len(board[0])):\n",
    "            if board[i][j] == 0:\n",
    "                return (i, j)  \n",
    "\n",
    "    return None"
   ]
  },
  {
   "cell_type": "code",
   "execution_count": 7,
   "metadata": {},
   "outputs": [
    {
     "data": {
      "text/plain": [
       "[[5, 3, 4, 6, 7, 8, 9, 1, 2],\n",
       " [6, 7, 2, 1, 9, 5, 3, 4, 8],\n",
       " [1, 9, 8, 3, 4, 2, 5, 6, 7],\n",
       " [8, 5, 9, 7, 6, 1, 4, 2, 3],\n",
       " [4, 2, 6, 8, 5, 3, 7, 9, 1],\n",
       " [7, 1, 3, 9, 2, 4, 8, 5, 6],\n",
       " [9, 6, 1, 5, 3, 7, 2, 8, 4],\n",
       " [2, 8, 7, 4, 1, 9, 6, 3, 5],\n",
       " [3, 4, 5, 2, 8, 6, 1, 7, 9]]"
      ]
     },
     "execution_count": 7,
     "metadata": {},
     "output_type": "execute_result"
    }
   ],
   "source": [
    "puzzle = [[5,3,0,0,7,0,0,0,0],\n",
    "          [6,0,0,1,9,5,0,0,0],\n",
    "          [0,9,8,0,0,0,0,6,0],\n",
    "          [8,0,0,0,6,0,0,0,3],\n",
    "          [4,0,0,8,0,3,0,0,1],\n",
    "          [7,0,0,0,2,0,0,0,6],\n",
    "          [0,6,0,0,0,0,2,8,0],\n",
    "          [0,0,0,4,1,9,0,0,5],\n",
    "          [0,0,0,0,8,0,0,7,9]]\n",
    "\n",
    "sudoku(puzzle)"
   ]
  },
  {
   "cell_type": "markdown",
   "metadata": {},
   "source": [
    "### 4 kyu <a class=anchor, id='4'></a>"
   ]
  },
  {
   "cell_type": "markdown",
   "metadata": {},
   "source": [
    "---\n",
    "\n",
    "**parseInt() reloaded**  \n",
    "\n",
    "In this kata we want to convert a string into an integer. The strings simply represent the numbers in words.  \n",
    "Examples:  \n",
    "\n",
    "    \"one\" => 1\n",
    "    \"twenty\" => 20\n",
    "    \"two hundred forty-six\" => 246\n",
    "    \"seven hundred eighty-three thousand nine hundred and nineteen\" => 783919\n",
    "    \n",
    "Additional Notes:  \n",
    "\n",
    "    The minimum number is \"zero\" (inclusively)\n",
    "    The maximum number, which must be supported is 1 million (inclusively)\n",
    "    The \"and\" in e.g. \"one hundred and twenty-four\" is optional, in some cases it's present and in others it's not\n",
    "    All tested numbers are valid, you don't need to validate them\n",
    "\n"
   ]
  },
  {
   "cell_type": "code",
   "execution_count": 9,
   "metadata": {},
   "outputs": [],
   "source": [
    "def parse_int(string):\n",
    "    import re\n",
    "    \n",
    "    dict_ = {\n",
    "        'and':0,\n",
    "    \n",
    "        'zero':0,\n",
    "        'one':1,\n",
    "        'two':2,\n",
    "        'three':3,\n",
    "        'four':4,\n",
    "        'five':5,\n",
    "        'six':6,\n",
    "        'seven':7,\n",
    "        'eight':8,\n",
    "        'nine':9,\n",
    "        'ten':10,\n",
    "    \n",
    "        'eleven':11,\n",
    "        'twelve':12,\n",
    "        'thirteen':13,\n",
    "        'fourteen':14,\n",
    "        'fifteen':15,\n",
    "        'sixteen':16,\n",
    "        'seventeen':17,\n",
    "        'eighteen':18,\n",
    "        'nineteen':19,\n",
    "    \n",
    "        'twenty':20,\n",
    "        'thirty':30,\n",
    "        'forty':40,\n",
    "        'fifty':50,\n",
    "        'sixty':60,\n",
    "        'seventy':70,\n",
    "        'eighty':80,\n",
    "        'ninety':90,\n",
    "    \n",
    "        'hundred':100,\n",
    "        'thousand':1000,\n",
    "        'million':1000000,\n",
    "        'billion':1000000000\n",
    "        }\n",
    "    \n",
    "    x = re.sub(r'-', ' ', string)\n",
    "\n",
    "    res = 0\n",
    "    sub_res = 0\n",
    "    for i in x.split():\n",
    "        char = dict_[i]\n",
    "        if char < 1000 and x.index(i) != -1 and char != 100:\n",
    "            sub_res += char\n",
    "        if char == 100:\n",
    "            sub_res *= char\n",
    "        if char >= 1000: \n",
    "            sub_res *= char\n",
    "            res += sub_res\n",
    "            sub_res = 0\n",
    "    \n",
    "    res += sub_res\n",
    "\n",
    "    return res"
   ]
  },
  {
   "cell_type": "code",
   "execution_count": 12,
   "metadata": {},
   "outputs": [
    {
     "data": {
      "text/plain": [
       "2302783919"
      ]
     },
     "execution_count": 12,
     "metadata": {},
     "output_type": "execute_result"
    }
   ],
   "source": [
    "parse_int('two billion three hundred and two million seven hundred eighty-three thousand nine hundred and nineteen')"
   ]
  },
  {
   "cell_type": "markdown",
   "metadata": {},
   "source": [
    "---\n",
    "\n",
    "**Sum of intervals**\n",
    "\n",
    "Description:  \n",
    "Write a function called sumIntervals/sum_intervals() that accepts an array of intervals, and returns the sum of all the interval lengths. Overlapping intervals should only be counted once.\n",
    "Intervals  \n",
    "Intervals are represented by a pair of integers in the form of an array. The first value of the interval will always be less than the second value. Interval example: [1, 5] is an interval from 1 to 5. The length of this interval is 4."
   ]
  },
  {
   "cell_type": "code",
   "execution_count": 5,
   "metadata": {},
   "outputs": [],
   "source": [
    "def sum_of_intervals(intervals):\n",
    "    n = []\n",
    "    for i in intervals:\n",
    "        for j in range(i[0],i[1]):\n",
    "            n.append(j)\n",
    "    return len(set(n))"
   ]
  },
  {
   "cell_type": "code",
   "execution_count": 6,
   "metadata": {},
   "outputs": [
    {
     "data": {
      "text/plain": [
       "7"
      ]
     },
     "execution_count": 6,
     "metadata": {},
     "output_type": "execute_result"
    }
   ],
   "source": [
    "sum_of_intervals([(1, 4), (7, 10), (3, 5)])"
   ]
  },
  {
   "cell_type": "markdown",
   "metadata": {},
   "source": [
    "---\n",
    "\n",
    "**Twice linear**\n",
    "\n",
    "Consider a sequence u where u is defined as follows:\n",
    "\n",
    "    The number u(0) = 1 is the first one in u.\n",
    "    For each x in u, then y = 2 * x + 1 and z = 3 * x + 1 must be in u too.\n",
    "    There are no other numbers in u.\n",
    "Ex: u = `[1, 3, 4, 7, 9, 10, 13, 15, 19, 21, 22, 27, ...]`\n",
    "\n",
    "1 gives 3 and 4, then 3 gives 7 and 10, 4 gives 9 and 13, then 7 gives 15 and 22 and so on...  \n",
    "\n",
    "*Task:*  \n",
    "Given parameter n the function dbl_linear (or dblLinear...) returns the element u(n) of the ordered (with <) sequence u (so, there are no duplicates)."
   ]
  },
  {
   "cell_type": "code",
   "execution_count": 3,
   "metadata": {},
   "outputs": [],
   "source": [
    "def dbl_linear(n): \n",
    "\n",
    "    u = [1] \n",
    "    pt2 = 0 \n",
    "    pt3 = 0    \n",
    "    for i in range(1, n+1):\n",
    "        \n",
    "        u.append(min(2*u[pt2] + 1, 3*u[pt3] + 1))\n",
    "        \n",
    "        if u[i] == 2 * u[pt2] + 1:\n",
    "            pt2 += 1\n",
    "        if u[i] == 3 * u[pt3] + 1:\n",
    "            pt3 += 1\n",
    "\n",
    "    return u[n]"
   ]
  },
  {
   "cell_type": "code",
   "execution_count": 4,
   "metadata": {},
   "outputs": [
    {
     "data": {
      "text/plain": [
       "55"
      ]
     },
     "execution_count": 4,
     "metadata": {},
     "output_type": "execute_result"
    }
   ],
   "source": [
    "dbl_linear(19)"
   ]
  },
  {
   "cell_type": "markdown",
   "metadata": {},
   "source": [
    "---\n",
    "\n",
    "**Permutations**\n",
    "\n",
    "In this kata you have to create all permutations of an input string and remove duplicates, if present. This means, you have to shuffle all letters from the input in all possible orders.  "
   ]
  },
  {
   "cell_type": "code",
   "execution_count": 1,
   "metadata": {},
   "outputs": [],
   "source": [
    "def permutations(string):\n",
    "    \n",
    "    from itertools import permutations as pm\n",
    "    \n",
    "    set_ = set()\n",
    "    for i in pm(string, len(string)):\n",
    "        set_.add(''.join(i))\n",
    "        \n",
    "    return list(set_)"
   ]
  },
  {
   "cell_type": "code",
   "execution_count": 2,
   "metadata": {},
   "outputs": [
    {
     "data": {
      "text/plain": [
       "['aaaaab', 'aabaaa', 'abaaaa', 'baaaaa', 'aaabaa', 'aaaaba']"
      ]
     },
     "execution_count": 2,
     "metadata": {},
     "output_type": "execute_result"
    }
   ],
   "source": [
    "permutations('aaaaab')"
   ]
  },
  {
   "cell_type": "markdown",
   "metadata": {},
   "source": [
    "---\n",
    "\n",
    "**Next smaller number with the same digits**\n",
    "\n",
    "Write a function that takes a positive integer and returns the next smaller positive integer containing the same digits.\n",
    "Return `-1`, when there is no smaller number that contains the same digits. Also return -1 when the next smaller number with the same digits would require the leading digit to be zero."
   ]
  },
  {
   "cell_type": "code",
   "execution_count": 2,
   "metadata": {},
   "outputs": [],
   "source": [
    "def next_smaller(n):\n",
    "\n",
    "    res = 0\n",
    "    x = str(n)\n",
    "    y = []\n",
    "    b = ''\n",
    "\n",
    "    for i in range(-1, -len(x), -1):\n",
    "        if x[i] >= x[i-1]:\n",
    "            y.append(x[i])\n",
    "        else:\n",
    "            y.append(x[i])\n",
    "            b = x[i-1]\n",
    "            x = x[:i-1]\n",
    "            break\n",
    "        \n",
    "    if len(b) != 0:\n",
    "        sub_b = ''\n",
    "        for i in range(len(y)):\n",
    "            if y[i] < b:\n",
    "                sub_b = y[i]\n",
    "                y[i] = b\n",
    "                break\n",
    "\n",
    "        m = int(x+sub_b+''.join(y))\n",
    "    \n",
    "        if len(str(m)) != len(str(n)):\n",
    "            res = -1\n",
    "        else:\n",
    "            res = int(m)\n",
    "    \n",
    "    else:\n",
    "        res = -1\n",
    "    \n",
    "    return res"
   ]
  },
  {
   "cell_type": "code",
   "execution_count": 4,
   "metadata": {},
   "outputs": [
    {
     "data": {
      "text/plain": [
       "59884848459853"
      ]
     },
     "execution_count": 4,
     "metadata": {},
     "output_type": "execute_result"
    }
   ],
   "source": [
    "next_smaller(59884848483559)"
   ]
  },
  {
   "cell_type": "markdown",
   "metadata": {},
   "source": [
    "---\n",
    "\n",
    "**Human readable duration format**\n",
    "\n",
    "Your task in order to complete this Kata is to write a function which formats a duration, given as a number of seconds, in a human-friendly way.  \n",
    "The function must accept a non-negative integer. If it is zero, it just returns \"now\". Otherwise, the duration is expressed as a combination of `years, days, hours, minutes and seconds`.   \n",
    "\n",
    "The resulting expression is made of components like 4 seconds, 1 year, etc. In general, a positive integer and one of the valid units of time, separated by a space. The unit of time is used in plural if the integer is greater than 1.  \n",
    "The components are separated by a comma and a space (\", \"). Except the last component, which is separated by \" and \", just like it would be written in English.  \n",
    "A more significant units of time will occur before than a least significant one. Therefore, 1 second and 1 year is not correct, but 1 year and 1 second is.  \n",
    "Different components have different unit of times. So there is not repeated units like in 5 seconds and 1 second.  \n",
    "A component will not appear at all if its value happens to be zero. Hence, 1 minute and 0 seconds is not valid, but it should be just 1 minute.  \n",
    "A unit of time must be used \"as much as possible\". It means that the function should not return 61 seconds, but 1 minute and 1 second instead. Formally, the duration specified by of a component must not be greater than any valid more significant unit of time."
   ]
  },
  {
   "cell_type": "code",
   "execution_count": 46,
   "metadata": {},
   "outputs": [],
   "source": [
    "def format_duration(seconds):\n",
    "    \n",
    "    sec = seconds % 60\n",
    "    mm_full = seconds // 60\n",
    "    h_full = mm_full // 60\n",
    "    mm_fin = mm_full - h_full * 60\n",
    "    d_full = h_full // 24\n",
    "    h_fin = h_full - d_full * 24\n",
    "    y_full = d_full // 365\n",
    "    d_fin = d_full - y_full * 365\n",
    "    \n",
    "    res, years, days, hours, mins, secs = [], [], [], [], [], []\n",
    "    \n",
    "    if y_full > 1:\n",
    "        years.append(str(y_full) +' years')\n",
    "    if y_full == 1 :\n",
    "        years.append(str(y_full) +' year')          \n",
    "    if d_fin > 1:\n",
    "        days.append(str(d_fin) + ' days')\n",
    "    if d_fin == 1:\n",
    "        days.append(str(d_fin) + ' day')         \n",
    "    if h_fin > 1:\n",
    "        hours.append(str(h_fin) + ' hours')\n",
    "    if h_fin == 1:\n",
    "        hours.append(str(h_fin) + ' hour')\n",
    "    if mm_fin > 1:\n",
    "        mins.append(str(mm_fin) + ' minutes')\n",
    "    if mm_fin == 1:\n",
    "        mins.append(str(mm_fin) + ' minute')\n",
    "    if sec > 1:\n",
    "        secs.append(str(sec) + ' seconds')\n",
    "    if sec == 1:\n",
    "        secs.append(str(sec) + ' second')\n",
    "        \n",
    "    if y_full == d_fin == h_fin == mm_fin == sec == 0:\n",
    "        res = ['now']\n",
    "        \n",
    "    res = [years, days, hours, mins, secs]\n",
    "    res_upd = []\n",
    "\n",
    "    for i in range(len(res)):\n",
    "        if len(res[i]) > 0:\n",
    "            res_upd.append(res[i])\n",
    "\n",
    "    if len(res_upd) == 0:\n",
    "        return 'now'\n",
    "    elif len(res_upd) == 1:\n",
    "        return ' '.join(res_upd[0])   \n",
    "    elif len(res_upd) == 2:\n",
    "        res_upd[0][0] = res_upd[0][0] + ' and '   \n",
    "        time = ''\n",
    "        for i in range(len(res_upd)):\n",
    "            time += ' '.join(res_upd[i])\n",
    "        return time  \n",
    "    else:\n",
    "        for i in range(len(res_upd)):\n",
    "            if len(res_upd[i][0]) > 0 and res_upd[i] != res_upd[-2] and res_upd[i] != res_upd[-1]:\n",
    "                res_upd[i][0] += ', '\n",
    "            if len(res_upd[i][0]) > 0 and res_upd[i] == res_upd[-1]:\n",
    "                res_upd[i][0] = ' and ' + res_upd[i][0]      \n",
    "        time = ''\n",
    "        for i in range(len(res_upd)):\n",
    "            time += ' '.join(res_upd[i])\n",
    "        return time"
   ]
  },
  {
   "cell_type": "code",
   "execution_count": 47,
   "metadata": {},
   "outputs": [
    {
     "data": {
      "text/plain": [
       "'1 year, 19 days, 18 hours, 19 minutes and 46 seconds'"
      ]
     },
     "execution_count": 47,
     "metadata": {},
     "output_type": "execute_result"
    }
   ],
   "source": [
    "format_duration(33243586)"
   ]
  },
  {
   "cell_type": "markdown",
   "metadata": {},
   "source": [
    "---\n",
    "\n",
    "**Pyramid slide down**\n",
    "\n",
    "Let's say that the 'slide down' is the maximum sum of consecutive numbers from the top to the bottom of the pyramid. As you can see, the longest 'slide down' is `3 + 7 + 4 + 9 = 23`\n",
    "\n",
    "Your task is to write a function longestSlideDown (in ruby/crystal/julia: longest_slide_down) that takes a pyramid representation as argument and returns its' largest 'slide down'."
   ]
  },
  {
   "cell_type": "code",
   "execution_count": 40,
   "metadata": {},
   "outputs": [],
   "source": [
    "def longest_slide_down(pyramid):\n",
    "    \n",
    "    for i in range(len(pyramid)-2, -1, -1):\n",
    "        idx = 0\n",
    "        for num in pyramid[i]:\n",
    "            if num + pyramid[i+1][idx] > num + pyramid[i+1][idx+1]:\n",
    "                pyramid[i][idx] += pyramid[i+1][idx]\n",
    "            else:\n",
    "                pyramid[i][idx] += pyramid[i+1][idx+1]\n",
    "            idx += 1\n",
    "            \n",
    "    return pyramid[0][0]"
   ]
  },
  {
   "cell_type": "code",
   "execution_count": 41,
   "metadata": {},
   "outputs": [
    {
     "data": {
      "text/plain": [
       "1074"
      ]
     },
     "execution_count": 41,
     "metadata": {},
     "output_type": "execute_result"
    }
   ],
   "source": [
    "longest_slide_down([\n",
    "            [75],\n",
    "            [95, 64],\n",
    "            [17, 47, 82],\n",
    "            [18, 35, 87, 10],\n",
    "            [20,  4, 82, 47, 65],\n",
    "            [19,  1, 23, 75,  3, 34],\n",
    "            [88,  2, 77, 73,  7, 63, 67],\n",
    "            [99, 65,  4, 28,  6, 16, 70, 92],\n",
    "            [41, 41, 26, 56, 83, 40, 80, 70, 33],\n",
    "            [41, 48, 72, 33, 47, 32, 37, 16, 94, 29],\n",
    "            [53, 71, 44, 65, 25, 43, 91, 52, 97, 51, 14],\n",
    "            [70, 11, 33, 28, 77, 73, 17, 78, 39, 68, 17, 57],\n",
    "            [91, 71, 52, 38, 17, 14, 91, 43, 58, 50, 27, 29, 48],\n",
    "            [63, 66,  4, 68, 89, 53, 67, 30, 73, 16, 69, 87, 40, 31],\n",
    "            [ 4, 62, 98, 27, 23,  9, 70, 98, 73, 93, 38, 53, 60,  4, 23],\n",
    "            ])"
   ]
  },
  {
   "cell_type": "markdown",
   "metadata": {},
   "source": [
    "### 5 kyu <a class=anchor, id='5'></a>"
   ]
  },
  {
   "cell_type": "markdown",
   "metadata": {},
   "source": [
    "---\n",
    "\n",
    "**Double cola**\n",
    "\n",
    "Sheldon, Leonard, Penny, Rajesh and Howard are in the queue for a \"Double Cola\" drink vending machine; there are no other people in the queue. The first one in the queue (Sheldon) buys a can, drinks it and doubles! The resulting two Sheldons go to the end of the queue. Then the next in the queue (Leonard) buys a can, drinks it and gets to the end of the queue as two Leonards, and so on.   \n",
    "\n",
    "Write a program that will return the name of the person who will drink the `n-th` cola."
   ]
  },
  {
   "cell_type": "code",
   "execution_count": 13,
   "metadata": {},
   "outputs": [],
   "source": [
    "def who_is_next(names, r):\n",
    "    \n",
    "    import numpy as np\n",
    "    \n",
    "    names_ = len(names)\n",
    "    \n",
    "    while r > names_:\n",
    "        r = r - names_\n",
    "        names_ *= 2\n",
    "    \n",
    "    return names[int(np.ceil(r/(names_/len(names)))-1)]"
   ]
  },
  {
   "cell_type": "code",
   "execution_count": 16,
   "metadata": {},
   "outputs": [
    {
     "data": {
      "text/plain": [
       "'Penny'"
      ]
     },
     "execution_count": 16,
     "metadata": {},
     "output_type": "execute_result"
    }
   ],
   "source": [
    "names = [\"Sheldon\", \"Leonard\", \"Penny\", \"Rajesh\", \"Howard\"]\n",
    "who_is_next(names, 1000000000)"
   ]
  },
  {
   "cell_type": "markdown",
   "metadata": {},
   "source": [
    "---\n",
    "\n",
    "**Moving zeros to the end**\n",
    "\n",
    "Write an algorithm that takes an array and moves all of the zeros to the end, preserving the order of the other elements."
   ]
  },
  {
   "cell_type": "code",
   "execution_count": 42,
   "metadata": {},
   "outputs": [],
   "source": [
    "def move_zeros(array):\n",
    "    \n",
    "    zer, non_zer = [], []\n",
    "\n",
    "    for i in range(len(array)):\n",
    "        if (type(array[i]) != str and str(array[i]) == '0') or (type(array[i]) != str and str(array[i]) == '0.0'):\n",
    "            zer.append(array[i])\n",
    "            \n",
    "        else:\n",
    "            non_zer.append(array[i])\n",
    "        \n",
    "    return non_zer + zer"
   ]
  },
  {
   "cell_type": "code",
   "execution_count": 43,
   "metadata": {},
   "outputs": [
    {
     "data": {
      "text/plain": [
       "['a',\n",
       " 'b',\n",
       " None,\n",
       " 'c',\n",
       " 'd',\n",
       " 1,\n",
       " False,\n",
       " 1,\n",
       " 3,\n",
       " [],\n",
       " 1,\n",
       " 9,\n",
       " {},\n",
       " 9,\n",
       " 0,\n",
       " 0,\n",
       " 0,\n",
       " 0,\n",
       " 0,\n",
       " 0,\n",
       " 0,\n",
       " 0,\n",
       " 0,\n",
       " 0]"
      ]
     },
     "execution_count": 43,
     "metadata": {},
     "output_type": "execute_result"
    }
   ],
   "source": [
    "move_zeros([\"a\",0,0,\"b\",None,\"c\",\"d\",0,1,False,0,1,0,3,[],0,1,9,0,0,{},0,0,9])"
   ]
  },
  {
   "cell_type": "markdown",
   "metadata": {},
   "source": [
    "---\n",
    "\n",
    "**Number of trailing zeros**\n",
    "\n",
    "Write a program that will calculate the number of trailing zeros in a factorial of a given number."
   ]
  },
  {
   "cell_type": "code",
   "execution_count": 38,
   "metadata": {},
   "outputs": [],
   "source": [
    "def zeros(n):\n",
    "    \n",
    "    count = 0\n",
    "    x=5\n",
    "    while (n/x>=1):\n",
    "        count += int(n/x)\n",
    "        x *= 5\n",
    "\n",
    "    return int(count)"
   ]
  },
  {
   "cell_type": "code",
   "execution_count": 39,
   "metadata": {},
   "outputs": [
    {
     "data": {
      "text/plain": [
       "52"
      ]
     },
     "execution_count": 39,
     "metadata": {},
     "output_type": "execute_result"
    }
   ],
   "source": [
    "zeros(218)"
   ]
  },
  {
   "cell_type": "markdown",
   "metadata": {},
   "source": [
    "---\n",
    "\n",
    "**Simple pig latin**\n",
    "\n",
    "Move the first letter of each word to the end of it, then add \"ay\" to the end of the word. Leave punctuation marks untouched."
   ]
  },
  {
   "cell_type": "code",
   "execution_count": 36,
   "metadata": {},
   "outputs": [],
   "source": [
    "def pig_it(txt):\n",
    "    \n",
    "    spilt_ = txt.split()\n",
    "    punct = ['!',',','.',':','?']\n",
    "    res = []\n",
    "    \n",
    "    for word in txt.split():\n",
    "        if word not in punct:\n",
    "            ordway = word[1:] + word[0] + 'ay'\n",
    "            res.append(ordway)\n",
    "        else:\n",
    "            res.append(word)\n",
    "            \n",
    "    return ' '.join(res)"
   ]
  },
  {
   "cell_type": "code",
   "execution_count": 37,
   "metadata": {},
   "outputs": [
    {
     "data": {
      "text/plain": [
       "'uisQay ustodietcay psosiay ustodescay ?'"
      ]
     },
     "execution_count": 37,
     "metadata": {},
     "output_type": "execute_result"
    }
   ],
   "source": [
    "pig_it('Quis custodiet ipsos custodes ?')"
   ]
  },
  {
   "cell_type": "markdown",
   "metadata": {},
   "source": [
    "---\n",
    "\n",
    "**Maximum subarray sum**\n",
    "\n",
    "The maximum sum subarray problem consists in finding the maximum sum of a contiguous subsequence in an array or list of integers.  \n",
    "Easy case is when the list is made up of only positive numbers and the maximum sum is the sum of the whole array. If the list is made up of only negative numbers, return 0 instead.  \n",
    "Empty list is considered to have zero greatest sum. Note that the empty list or array is also a valid sublist/subarray."
   ]
  },
  {
   "cell_type": "code",
   "execution_count": 29,
   "metadata": {},
   "outputs": [],
   "source": [
    "def max_sequence(arr):\n",
    "    lowest = ans = total = 0\n",
    "    for i in arr:\n",
    "        total += i\n",
    "        lowest = min(lowest, total)\n",
    "        ans = max(ans, total - lowest)\n",
    "    return ans"
   ]
  },
  {
   "cell_type": "code",
   "execution_count": 30,
   "metadata": {},
   "outputs": [
    {
     "data": {
      "text/plain": [
       "155"
      ]
     },
     "execution_count": 30,
     "metadata": {},
     "output_type": "execute_result"
    }
   ],
   "source": [
    "max_sequence([7, 4, 11, -11, 39, 36, 10, -6, 37, -10, -32, 44, -26, -34, 43, 43])"
   ]
  },
  {
   "cell_type": "markdown",
   "metadata": {},
   "source": [
    "### 6 kyu <a class=anchor, id='6'></a>"
   ]
  },
  {
   "cell_type": "markdown",
   "metadata": {},
   "source": [
    "---\n",
    "\n",
    "**Sort the odd**\n",
    "\n",
    "You will be given an array of numbers. You have to sort the odd numbers in ascending order while leaving the even numbers at their original positions."
   ]
  },
  {
   "cell_type": "code",
   "execution_count": 34,
   "metadata": {},
   "outputs": [],
   "source": [
    "def sort_array(source_array):\n",
    "    \n",
    "    odd_sorted = sorted([source_array[i] for i in range(len(source_array)) if source_array[i] % 2 != 0])\n",
    "    \n",
    "    res_array = []\n",
    "    x = 0\n",
    "\n",
    "    for i in range(len(source_array)):\n",
    "        if source_array[i] % 2 != 0:\n",
    "            res_array.append(odd_sorted[x])\n",
    "            x += 1\n",
    "        else:\n",
    "            res_array.append(source_array[i])\n",
    "            \n",
    "    return res_array"
   ]
  },
  {
   "cell_type": "code",
   "execution_count": 35,
   "metadata": {},
   "outputs": [
    {
     "data": {
      "text/plain": [
       "[0, 1, 2, 3, 4, 5, 8, 7, 6, 9]"
      ]
     },
     "execution_count": 35,
     "metadata": {},
     "output_type": "execute_result"
    }
   ],
   "source": [
    "sort_array([0, 1, 2, 3, 4, 9, 8, 7, 6, 5])"
   ]
  },
  {
   "cell_type": "markdown",
   "metadata": {},
   "source": [
    "---\n",
    "\n",
    "**Bouncing balls**\n",
    "\n",
    "A child is playing with a ball on the nth floor of a tall building. The height of this floor, h, is known.  \n",
    "He drops the ball out of the window. The ball bounces (for example), to two-thirds of its height (a bounce of 0.66).  \n",
    "His mother looks out of a window 1.5 meters from the ground.  \n",
    "How many times will the mother see the ball pass in front of her window (including when it's falling and bouncing?\n",
    "Three conditions must be met for a valid experiment:  \n",
    "\n",
    "    Float parameter \"h\" in meters must be greater than 0  \n",
    "    Float parameter \"bounce\" must be greater than 0 and less than 1  \n",
    "    Float parameter \"window\" must be less than h.  \n",
    "\n",
    "If all three conditions above are fulfilled, return a positive integer, otherwise return -1."
   ]
  },
  {
   "cell_type": "code",
   "execution_count": 31,
   "metadata": {},
   "outputs": [],
   "source": [
    "def bouncing_ball(h, bounce, window):\n",
    "    res = 0\n",
    "    if h > window > 0 and 1 > bounce > 0:\n",
    "        while h > window:\n",
    "            h *= bounce\n",
    "            res += 2\n",
    "        return res - 1\n",
    "    else:\n",
    "        return -1"
   ]
  },
  {
   "cell_type": "code",
   "execution_count": 33,
   "metadata": {},
   "outputs": [
    {
     "data": {
      "text/plain": [
       "-1"
      ]
     },
     "execution_count": 33,
     "metadata": {},
     "output_type": "execute_result"
    }
   ],
   "source": [
    "bouncing_ball(40, 1, 10)"
   ]
  },
  {
   "cell_type": "markdown",
   "metadata": {},
   "source": [
    "---\n",
    "\n",
    "**Take a ten minute walk**\n",
    "\n",
    "You live in the city of Cartesia where all roads are laid out in a perfect grid. You arrived ten minutes too early to an appointment, so you decided to take the opportunity to go for a short walk. The city provides its citizens with a Walk Generating App on their phones -- everytime you press the button it sends you an array of one-letter strings representing directions to walk (eg. `['n', 's', 'w', 'e']`). You always walk only a single block for each letter (direction) and you know it takes you one minute to traverse one city block, so create a function that will return true if the walk the app gives you will take you exactly ten minutes (you don't want to be early or late!) and will, of course, return you to your starting point. Return false otherwise."
   ]
  },
  {
   "cell_type": "code",
   "execution_count": 25,
   "metadata": {},
   "outputs": [],
   "source": [
    "def isValidWalk(walk):\n",
    "    if (walk.count('n') == walk.count('s') and \n",
    "        walk.count('e') == walk.count('w') and\n",
    "        len(walk) == 10):\n",
    "            return True\n",
    "    return False"
   ]
  },
  {
   "cell_type": "code",
   "execution_count": 26,
   "metadata": {},
   "outputs": [
    {
     "data": {
      "text/plain": [
       "False"
      ]
     },
     "execution_count": 26,
     "metadata": {},
     "output_type": "execute_result"
    }
   ],
   "source": [
    "isValidWalk(['n','s','n','s','n','s','n','s','n','s','n','s'])"
   ]
  },
  {
   "cell_type": "markdown",
   "metadata": {},
   "source": [
    "---\n",
    "\n",
    "**Build tower**\n",
    "\n",
    "Build Tower by the following given argument:\n",
    "number of floors (integer and always greater than 0).\n",
    "\n",
    "Tower block is represented as *"
   ]
  },
  {
   "cell_type": "code",
   "execution_count": 23,
   "metadata": {},
   "outputs": [],
   "source": [
    "def tower_builder(n_floors):\n",
    "    \n",
    "    x = []\n",
    "    len_ = n_floors * 2 - 1\n",
    "    \n",
    "    for i in range(1, n_floors+1):\n",
    "        star = i * 2 - 1 \n",
    "        space = int((len_ - star) / 2)\n",
    "        \n",
    "        res = space * ' ' + star * '*' + space * ' '\n",
    "        x.append(res)\n",
    "        \n",
    "    return x"
   ]
  },
  {
   "cell_type": "code",
   "execution_count": 24,
   "metadata": {},
   "outputs": [
    {
     "data": {
      "text/plain": [
       "['  *  ', ' *** ', '*****']"
      ]
     },
     "execution_count": 24,
     "metadata": {},
     "output_type": "execute_result"
    }
   ],
   "source": [
    "tower_builder(3)"
   ]
  },
  {
   "cell_type": "markdown",
   "metadata": {},
   "source": [
    "---\n",
    "\n",
    "**Persistent Bugger**\n",
    "\n",
    "Write a function, `persistence`, that takes in a positive parameter num and returns its multiplicative persistence, which is the number of times you must multiply the digits in num until you reach a single digit."
   ]
  },
  {
   "cell_type": "code",
   "execution_count": 21,
   "metadata": {},
   "outputs": [],
   "source": [
    "def persistence(n):\n",
    "    n = str(n)\n",
    "    count = 0\n",
    "    while len(n) > 1:\n",
    "        p = 1\n",
    "        for i in n:\n",
    "            p *= int(i)\n",
    "        n = str(p)\n",
    "        count += 1\n",
    "    return count"
   ]
  },
  {
   "cell_type": "code",
   "execution_count": 22,
   "metadata": {},
   "outputs": [
    {
     "data": {
      "text/plain": [
       "4"
      ]
     },
     "execution_count": 22,
     "metadata": {},
     "output_type": "execute_result"
    }
   ],
   "source": [
    "persistence(999)"
   ]
  },
  {
   "cell_type": "markdown",
   "metadata": {},
   "source": [
    "---\n",
    "\n",
    "**Delete occurrences of an element if it occurs more than n times**\n",
    "\n",
    "Given a list lst and a number N, create a new list that contains each number of lst at most N times without reordering. For example if N = 2, and the input is `[1,2,3,1,2,1,2,3]`, you take `[1,2,3,1,2]`, drop the next `[1,2]` since this would lead to 1 and 2 being in the result 3 times, and then take 3, which leads to `[1,2,3,1,2,3]`."
   ]
  },
  {
   "cell_type": "code",
   "execution_count": 19,
   "metadata": {},
   "outputs": [],
   "source": [
    "def delete_nth(order,max_e):\n",
    "    \n",
    "    res = []\n",
    "    d = {}\n",
    "    for i in order:\n",
    "        if i not in d:\n",
    "            d[i] = 1\n",
    "            res.append(i)     \n",
    "        else:\n",
    "            d[i] += 1\n",
    "            if d[i] <= max_e:\n",
    "                res.append(i)\n",
    "    return res"
   ]
  },
  {
   "cell_type": "code",
   "execution_count": 20,
   "metadata": {},
   "outputs": [
    {
     "data": {
      "text/plain": [
       "[1, 2, 3, 1, 1, 2, 2, 3, 3, 4, 5]"
      ]
     },
     "execution_count": 20,
     "metadata": {},
     "output_type": "execute_result"
    }
   ],
   "source": [
    "delete_nth([1, 2, 3, 1, 1, 2, 1, 2, 3, 3, 2, 4, 5, 3, 1],3)"
   ]
  },
  {
   "cell_type": "markdown",
   "metadata": {},
   "source": [
    "---\n",
    "\n",
    "**Find the missing letter**\n",
    "\n",
    "Write a method that takes an array of consecutive (increasing) letters as input and that returns the missing letter in the array.\n",
    "\n",
    "You will always get an valid array. And it will be always exactly one letter be missing. The length of the array will always be at least 2.\n",
    "The array will always contain letters in only one case.\n",
    "\n",
    "Example:\n",
    "\n",
    "`['a','b','c','d','f']` -> 'e'   \n",
    "`['O','Q','R','S']` -> 'P'"
   ]
  },
  {
   "cell_type": "code",
   "execution_count": 17,
   "metadata": {},
   "outputs": [],
   "source": [
    "def find_missing_letter(char):\n",
    "    import string\n",
    "\n",
    "    words_l = list(string.ascii_lowercase)\n",
    "    words_u = list(string.ascii_uppercase)\n",
    "\n",
    "    dict_l, dict_u = {}, {}\n",
    "    dict_l_inv, dict_u_inv = {}, {}\n",
    "\n",
    "    for word_l, word_u, char_ in zip(words_l, words_u, range(26)):\n",
    "        dict_l[word_l], dict_u[word_u] = char_, char_\n",
    "        dict_l_inv[char_], dict_u_inv[char_] = word_l, word_u\n",
    "        \n",
    "    if char[0] in dict_l:\n",
    "    \n",
    "        for i in range(len(char)-1):\n",
    "            if dict_l[char[i]] + 1 != dict_l[char[i+1]]:\n",
    "                res = dict_l_inv[dict_l[char[i]] + 1]\n",
    "    else:\n",
    "    \n",
    "        for i in range(len(char)-1):\n",
    "            if dict_u[char[i]] + 1 != dict_u[char[i+1]]:\n",
    "                res = dict_u_inv[dict_u[char[i]] + 1]\n",
    "    \n",
    "    return res"
   ]
  },
  {
   "cell_type": "code",
   "execution_count": 18,
   "metadata": {},
   "outputs": [
    {
     "data": {
      "text/plain": [
       "'P'"
      ]
     },
     "execution_count": 18,
     "metadata": {},
     "output_type": "execute_result"
    }
   ],
   "source": [
    "find_missing_letter(['O','Q','R','S'])"
   ]
  },
  {
   "cell_type": "markdown",
   "metadata": {},
   "source": [
    "---\n",
    "\n",
    "**Dubstep**\n",
    "\n",
    "Polycarpus works as a DJ in the best Berland nightclub, and he often uses dubstep music in his performance. Recently, he has decided to take a couple of old songs and make dubstep remixes from them.\n",
    "\n",
    "Let's assume that a song consists of some number of words (that don't contain WUB). To make the dubstep remix of this song, Polycarpus inserts a certain number of words \"WUB\" before the first word of the song (the number may be zero), after the last word (the number may be zero), and between words (at least one between any pair of neighbouring words), and then the boy glues together all the words, including \"WUB\", in one string and plays the song at the club.\n",
    "\n",
    "For example, a song with words \"I AM X\" can transform into a dubstep remix as \"WUBWUBIWUBAMWUBWUBX\" and cannot transform into \"WUBWUBIAMWUBX\".\n",
    "\n",
    "Recently, Jonny has heard Polycarpus's new dubstep track, but since he isn't into modern music, he decided to find out what was the initial song that Polycarpus remixed. Help Jonny restore the original song."
   ]
  },
  {
   "cell_type": "code",
   "execution_count": 11,
   "metadata": {},
   "outputs": [],
   "source": [
    "def song_decoder(song):\n",
    "    result = song.replace('WUB', ' ').split()\n",
    "    return ' '.join(result)"
   ]
  },
  {
   "cell_type": "code",
   "execution_count": 12,
   "metadata": {},
   "outputs": [
    {
     "data": {
      "text/plain": [
       "'KSDHEMIXUJ R S H'"
      ]
     },
     "execution_count": 12,
     "metadata": {},
     "output_type": "execute_result"
    }
   ],
   "source": [
    "song_decoder(\"WUBKSDHEMIXUJWUBWUBRWUBWUBWUBSWUBWUBWUBHWUBWUBWUB\")"
   ]
  },
  {
   "cell_type": "markdown",
   "metadata": {},
   "source": [
    "### 7 kyu <a class=anchor id='7'></a>"
   ]
  },
  {
   "cell_type": "markdown",
   "metadata": {},
   "source": [
    "---\n",
    "\n",
    "**Friend or Foe?**\n",
    "\n",
    "Make a program that filters a list of strings and returns a list with only your friends name in it.  \n",
    "\n",
    "If a name has exactly 4 letters in it, you can be sure that it has to be a friend of yours! Otherwise, you can be sure he's not...  \n",
    "\n",
    "Ex: Input = [\"Ryan\", \"Kieran\", \"Jason\", \"Yous\"], Output = [\"Ryan\", \"Yous\"]  "
   ]
  },
  {
   "cell_type": "code",
   "execution_count": 1,
   "metadata": {},
   "outputs": [],
   "source": [
    "def friend(x):\n",
    "    return [f for f in x if len(f) == 4]"
   ]
  },
  {
   "cell_type": "code",
   "execution_count": 3,
   "metadata": {},
   "outputs": [
    {
     "data": {
      "text/plain": [
       "['Ryan', 'Mark']"
      ]
     },
     "execution_count": 3,
     "metadata": {},
     "output_type": "execute_result"
    }
   ],
   "source": [
    "friend([\"Ryan\", \"Kieran\", \"Mark\",])"
   ]
  },
  {
   "cell_type": "markdown",
   "metadata": {},
   "source": [
    "---\n",
    "\n",
    "**Is this a triangle?**\n",
    "\n",
    "Implement a method that accepts 3 integer values a, b, c. The method should return true if a triangle can be built with the sides of given length and false in any other case.\n",
    "\n",
    "(In this case, all triangles must have surface greater than 0 to be accepted)."
   ]
  },
  {
   "cell_type": "code",
   "execution_count": 4,
   "metadata": {},
   "outputs": [],
   "source": [
    "def is_triangle(a, b, c):\n",
    "    if a + b > c and a + c > b and b + c > a:\n",
    "        return True\n",
    "    else:\n",
    "        return False"
   ]
  },
  {
   "cell_type": "code",
   "execution_count": 6,
   "metadata": {},
   "outputs": [
    {
     "data": {
      "text/plain": [
       "True"
      ]
     },
     "execution_count": 6,
     "metadata": {},
     "output_type": "execute_result"
    }
   ],
   "source": [
    "is_triangle(7, 4, 5)"
   ]
  },
  {
   "cell_type": "markdown",
   "metadata": {},
   "source": [
    "---\n",
    "\n",
    "**Consecutive Differences**\n",
    "\n",
    "Given a list of integers, find the positive difference between each consecutive pair of numbers, and put this into a new list of differences. Then, find the differences between consecutive pairs in this new list, and repeat until the list has a length of 1. Then, return the single value.\n",
    "\n",
    "The list will only contain integers, and will not be empty."
   ]
  },
  {
   "cell_type": "code",
   "execution_count": 7,
   "metadata": {},
   "outputs": [],
   "source": [
    "def differences(lst):\n",
    "    \n",
    "    if len(lst) == 0:\n",
    "        return 0\n",
    "    else:\n",
    "        y = lst\n",
    "        while len(y)>1:\n",
    "            z = []\n",
    "            for i in range(len(y)-1):\n",
    "                z.append(abs(y[i]-y[i+1]))\n",
    "            y = z\n",
    "        return y[0]"
   ]
  },
  {
   "cell_type": "code",
   "execution_count": 8,
   "metadata": {},
   "outputs": [
    {
     "data": {
      "text/plain": [
       "1"
      ]
     },
     "execution_count": 8,
     "metadata": {},
     "output_type": "execute_result"
    }
   ],
   "source": [
    "differences([1, 5, 2, 7, 8, 9, 0])"
   ]
  },
  {
   "cell_type": "markdown",
   "metadata": {},
   "source": [
    "---\n",
    "\n",
    "**Find the Divisors!**\n",
    "\n",
    "Create a function named divisors/Divisors that takes an integer n > 1 and returns an array with all of the integer's divisors(except for 1 and the number itself), from smallest to largest. If the number is prime return the string '(integer) is prime."
   ]
  },
  {
   "cell_type": "code",
   "execution_count": 9,
   "metadata": {},
   "outputs": [],
   "source": [
    "def divisors(x):\n",
    "\n",
    "    a = set()\n",
    "\n",
    "    if x % 2 == 0 and x != 2:\n",
    "        a.add(2), a.add(x // 2)\n",
    "    if x % 3 == 0 and x != 3:\n",
    "        a.add(3), a.add(x // 3)\n",
    "    if x % 4 == 0 and x != 4:\n",
    "        a.add(2), a.add(4), a.add(x//4)\n",
    "    if x % 5 == 0 and x != 5:\n",
    "        a.add(5), a.add(x // 5)\n",
    "    if x % 6 == 0 and x != 6:\n",
    "        a.add(6), a.add(3), a.add(2), a.add(x // 6)\n",
    "    if x % 7 == 0 and x != 7:\n",
    "        a.add(7), a.add(x // 7)\n",
    "    if x % 8 == 0 and x != 8:\n",
    "        a.add(2), a.add(4), a.add(8), a.add(x // 8)\n",
    "    if x % 9 == 0 and x != 9:\n",
    "        a.add(3), a.add(9), a.add(x // 9)\n",
    "    if x % 10 == 0 and x != 10:\n",
    "        a.add(2), a.add(5), a.add(10), a.add(x // 10)\n",
    "    if x % 11 == 0 and x != 11:\n",
    "        a.add(11), a.add(x // 11)\n",
    "    \n",
    "    \n",
    "    ### return part\n",
    "    if len(a)>0:\n",
    "        return sorted(list(a))\n",
    "    else:\n",
    "        return '{} is prime'.format(x)"
   ]
  },
  {
   "cell_type": "code",
   "execution_count": 10,
   "metadata": {},
   "outputs": [
    {
     "data": {
      "text/plain": [
       "[2, 3, 4, 6, 8, 12]"
      ]
     },
     "execution_count": 10,
     "metadata": {},
     "output_type": "execute_result"
    }
   ],
   "source": [
    "divisors(24)"
   ]
  },
  {
   "cell_type": "markdown",
   "metadata": {},
   "source": [
    "---\n",
    "\n",
    "**Find the next perfect square!**\n",
    "\n",
    "You might know some pretty large perfect squares. But what about the NEXT one?\n",
    "\n",
    "Complete the findNextSquare method that finds the next integral perfect square after the one passed as a parameter. Recall that an integral perfect square is an integer n such that sqrt(n) is also an integer.\n",
    "\n",
    "If the parameter is itself not a perfect square then -1 should be returned. You may assume the parameter is positive."
   ]
  },
  {
   "cell_type": "code",
   "execution_count": 13,
   "metadata": {},
   "outputs": [],
   "source": [
    "def find_next_square(sq):\n",
    "    import numpy as np\n",
    "    if np.sqrt(sq) == int(np.sqrt(sq)):\n",
    "        return int((np.sqrt(sq) + 1) ** 2)\n",
    "    else:\n",
    "        return -1"
   ]
  },
  {
   "cell_type": "code",
   "execution_count": 14,
   "metadata": {},
   "outputs": [
    {
     "data": {
      "text/plain": [
       "15241630849"
      ]
     },
     "execution_count": 14,
     "metadata": {},
     "output_type": "execute_result"
    }
   ],
   "source": [
    "find_next_square(15241383936)"
   ]
  },
  {
   "cell_type": "markdown",
   "metadata": {},
   "source": [
    "---\n",
    "\n",
    "**Ones and zeros**\n",
    "\n",
    "Given an array of ones and zeroes, convert the equivalent binary value to an integer.\n",
    "\n",
    "Eg: `[0, 0, 0, 1]` is treated as `0001` which is the binary representation of `1`."
   ]
  },
  {
   "cell_type": "code",
   "execution_count": 15,
   "metadata": {},
   "outputs": [],
   "source": [
    "def binary_array_to_number(arr):\n",
    "    int_str = ''\n",
    "    for i in range(len(arr)):\n",
    "        int_str += str(arr[i])\n",
    "    return int(int_str, 2)"
   ]
  },
  {
   "cell_type": "code",
   "execution_count": 16,
   "metadata": {},
   "outputs": [
    {
     "data": {
      "text/plain": [
       "6"
      ]
     },
     "execution_count": 16,
     "metadata": {},
     "output_type": "execute_result"
    }
   ],
   "source": [
    "binary_array_to_number([0,1,1,0])"
   ]
  }
 ],
 "metadata": {
  "kernelspec": {
   "display_name": "Python 3",
   "language": "python",
   "name": "python3"
  },
  "language_info": {
   "codemirror_mode": {
    "name": "ipython",
    "version": 3
   },
   "file_extension": ".py",
   "mimetype": "text/x-python",
   "name": "python",
   "nbconvert_exporter": "python",
   "pygments_lexer": "ipython3",
   "version": "3.8.5"
  }
 },
 "nbformat": 4,
 "nbformat_minor": 2
}
